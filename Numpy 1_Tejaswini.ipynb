{
 "cells": [
  {
   "cell_type": "code",
   "execution_count": 11,
   "metadata": {
    "collapsed": true
   },
   "outputs": [],
   "source": [
    "import numpy as np\n",
    "#Define vandermonde identical to Vandermonde function in numpy, parameters are a sequence, N and boolean value as increasing\n",
    "def vandermonde(seq,N,increasing=False): \n",
    "    vandermonde_matrix = []                     # Initialize vandermonde_matrix as empty list\n",
    "    for i in range(N):          # Iterate through the range of N\n",
    "        temp = []                 # Initialize an temporary list to store each list of iteration \n",
    "        for element in seq:             # Iterate through all elements in input vector seq\n",
    "            temp.append(element**(N-i-1)) # Append each element to power(N-i-1) to the temporary list\n",
    "        vandermonde_matrix.append(temp)            # Append each temporary list to the vandermonde matrix \n",
    "    if(increasing==False):            # If increasing is equal to False\n",
    "            return np.column_stack(vandermonde_matrix) # Return each temp list as a column stack in descending order\n",
    "    else:                               # If increasing is equal to True\n",
    "            return np.column_stack(sorted(vandermonde_matrix)) # Return each temp list as a column stack in ascending order"
   ]
  },
  {
   "cell_type": "code",
   "execution_count": 12,
   "metadata": {},
   "outputs": [
    {
     "data": {
      "text/plain": [
       "array([[  1,   1,   1,   1],\n",
       "       [  1,   2,   4,   8],\n",
       "       [  1,   3,   9,  27],\n",
       "       [  1,   4,  16,  64],\n",
       "       [  1,   5,  25, 125]])"
      ]
     },
     "execution_count": 12,
     "metadata": {},
     "output_type": "execute_result"
    }
   ],
   "source": [
    "vandermonde([1,2,3,4,5],4,True)"
   ]
  },
  {
   "cell_type": "code",
   "execution_count": 13,
   "metadata": {},
   "outputs": [
    {
     "data": {
      "text/plain": [
       "array([[  1,   1,   1,   1],\n",
       "       [  8,   4,   2,   1],\n",
       "       [ 27,   9,   3,   1],\n",
       "       [ 64,  16,   4,   1],\n",
       "       [125,  25,   5,   1]])"
      ]
     },
     "execution_count": 13,
     "metadata": {},
     "output_type": "execute_result"
    }
   ],
   "source": [
    "vandermonde([1,2,3,4,5],4)"
   ]
  },
  {
   "cell_type": "code",
   "execution_count": null,
   "metadata": {
    "collapsed": true
   },
   "outputs": [],
   "source": []
  }
 ],
 "metadata": {
  "kernelspec": {
   "display_name": "Python 3",
   "language": "python",
   "name": "python3"
  },
  "language_info": {
   "codemirror_mode": {
    "name": "ipython",
    "version": 3
   },
   "file_extension": ".py",
   "mimetype": "text/x-python",
   "name": "python",
   "nbconvert_exporter": "python",
   "pygments_lexer": "ipython3",
   "version": "3.6.2"
  }
 },
 "nbformat": 4,
 "nbformat_minor": 2
}
